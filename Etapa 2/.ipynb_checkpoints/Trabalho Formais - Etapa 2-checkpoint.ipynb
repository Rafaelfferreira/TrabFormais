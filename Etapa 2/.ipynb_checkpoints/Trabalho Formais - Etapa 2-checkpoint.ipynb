{
 "cells": [
  {
   "cell_type": "markdown",
   "metadata": {},
   "source": [
    "### Importanto as bibliotecas"
   ]
  },
  {
   "cell_type": "code",
   "execution_count": 155,
   "metadata": {
    "collapsed": true
   },
   "outputs": [],
   "source": [
    "import re #biblioteca para realizar buscas dentro do arquivo texto\n",
    "import os\n",
    "import copy"
   ]
  },
  {
   "cell_type": "markdown",
   "metadata": {},
   "source": [
    "### Definindo uma classe automato e criando uma função que leia o automato dado um arquivo .txt"
   ]
  },
  {
   "cell_type": "code",
   "execution_count": 156,
   "metadata": {
    "collapsed": true
   },
   "outputs": [],
   "source": [
    "class automato:        \n",
    "    def __init__(self, arqtxt): #recebe como parametro um arquivo texto contendo o automato\n",
    "        \n",
    "        #Retorna os simbolos do alfabeto, os estados do automato, o estado inicial e os estados finais\n",
    "        quadrupla = re.search(\"\\(.*?\\)\",arqtxt) #Procura a parte da string entre parenteses e a retorna (com os parenteses) dentro de um objeto match\n",
    "        quadrupla = quadrupla.group(0) #Extrai a string do objeto match\n",
    "        quadrupla = quadrupla[1:len(quadrupla)-1] #Retira os parenteses do começo e do final\n",
    "\n",
    "        #filtra os estados\n",
    "        simbolos = re.search(\"\\{.*?\\}\", quadrupla)\n",
    "        simbolos = simbolos.group(0)\n",
    "        simbolos = simbolos[1:len(simbolos)-1]\n",
    "        self.simbolos = simbolos.split(',')  #Salva os simbolos do objeto automato\n",
    "\n",
    "        tripla = quadrupla[len(simbolos)+3:] #passa para a variavel tripla a variavel quadrupla menos os estados\n",
    "\n",
    "        #filtra os simbolos\n",
    "        estados = re.search(\"\\{.*?\\}\", tripla)\n",
    "        estados = estados.group(0)\n",
    "        estados = estados[1:len(estados)-1]\n",
    "        self.estados = estados.split(',') #Salva os estados do objeto automato\n",
    "\n",
    "        dupla = tripla[len(estados)+3:] #passa para a variavel dupla a variavel tripla menos os simbolos\n",
    "\n",
    "        #filtra o estado inicial\n",
    "        restante = dupla.split(',')\n",
    "        self.inicial = restante[0]\n",
    "        if(len(restante) == 2):\n",
    "            self.finais = restante[1]\n",
    "        else:        \n",
    "            #filtra os estados finais\n",
    "            finais = dupla[len(self.inicial)+1:]\n",
    "            finais = finais[1:len(finais)-1]\n",
    "            self.finais = finais.split(',')\n",
    "            \n",
    "        #Salva a tabela de transição como uma lista de listas\n",
    "        #Da um slice em dados a partir do index inicial da palavra Prog + o tamanho da palavra prog + 1 (pois tem um '\\n' dps de prog)\n",
    "        transitiv_raw = (arqtxt[arqtxt.index('Prog') + len('Prog') + 1:])\n",
    "        transitiv_raw = transitiv_raw.split('\\n') #salva cada elemento em uma linha\n",
    "\n",
    "        transitiv = [] #inicializa a lista vazia que vai armazenar a tabela de transitividade\n",
    "        for x in transitiv_raw: #itera por cada elemento da tabela de transitividade\n",
    "            inst = [] #inicializa a lista que vai salvar os 3 elemento de cada transição\n",
    "            x = x.split('=') #divide o estado inicial + entrada do estado resultante\n",
    "    \n",
    "            atual = x[0][1:len(x[0])-1] #salva na variavel atual o estado atual + a variavel de entrada sem os parenteses\n",
    "            atual = atual.split(',') #faz com que atual contenha uma lista contendo o estado atual e a variavel\n",
    "            inst.append(atual[0]) #salva o estado atual\n",
    "            inst.append(atual[1]) #salva a variavel da transição\n",
    "            inst.append(x[1]) #salva o estado resultante no terceiro espaço da lista\n",
    "        \n",
    "            transitiv.append(inst) #salva a lista interna na lista externa\n",
    "        self.transitiv = transitiv\n",
    "        \n",
    "class automatoP:\n",
    "    def __init__(self,automato):\n",
    "        self.estados = []\n",
    "        self.simbolos = []\n",
    "        self.inicial  = automato.inicial\n",
    "        self.finais = []\n",
    "        self.transitiv = [] "
   ]
  },
  {
   "cell_type": "markdown",
   "metadata": {},
   "source": [
    "# Funcao de conversão"
   ]
  },
  {
   "cell_type": "code",
   "execution_count": 157,
   "metadata": {
    "collapsed": true
   },
   "outputs": [],
   "source": [
    "def converte(arquivo):\n",
    "    openfile = open(arquivo,\"r\", encoding=\"utf-8\",) #Lembrar de incluir o encoding para que ele leia os acentos corretamente\n",
    "    dados = openfile.read()\n",
    "    \n",
    "    automatoND = automato(dados) #le o arquivo e cria um automato nao deterministico\n",
    "    automatoDFA = automatoP(automatoND) #instancia o automato deterministico\n",
    "    \n",
    "    visited = [] #estados  já visitados\n",
    "    \n",
    "    recursao([automatoDFA.inicial], automatoND.simbolos, automatoND.transitiv, visited, automatoDFA) #preenche o automato deterministico\n",
    "    \n",
    "    # agora temos que transformar as listas de estados em um estado só representado pela concatenação dos itens da lista:    \n",
    "    # primeiro na lista de estados:\n",
    "    counter = 0\n",
    "    for estado in automatoDFA.estados:\n",
    "        if type(estado) == list:   # se for um estado ou mais em forma de lista, converte\n",
    "            string = \"\"\n",
    "            for q in estado:   # para cada estado dentro desse estado que deveria ser único, concatena-os\n",
    "                string = string+q\n",
    "            automatoDFA.estados[counter] = string\n",
    "        counter +=1\n",
    "\n",
    "    \n",
    "    # depois fazemos o mesmo para as transições:\n",
    "    counter = 0\n",
    "    for trans in automatoDFA.transitiv:\n",
    "        # trata estado atual da transição\n",
    "        if type(trans[0]) == list:   # se for um estado ou mais em forma de lista, converte\n",
    "            string = \"\"\n",
    "            for q in trans[0]:   # para cada estado dentro desse estado que deveria ser único, concatena-os\n",
    "                string = string+q\n",
    "            automatoDFA.transitiv[counter][0] = string\n",
    "        \n",
    "        # trata estado final da transição\n",
    "        if type(trans[2]) == list:   # se for um estado ou mais em forma de lista, converte\n",
    "            string = \"\"\n",
    "            for q in trans[2]:   # para cada estado dentro desse estado que deveria ser único, concatena-os\n",
    "                string = string+q\n",
    "            automatoDFA.transitiv[counter][2] = string\n",
    "        counter += 1\n",
    "\n",
    "    # os estados finais serão todos aqueles que tiverem o próprio final do NFA ou algum estados agrupado com o final:\n",
    "    for estado in automatoDFA.estados:\n",
    "        # aqui só faz um teste para saber se existe apenas um final, neste caso deve-se passar uma lista desse um elemento\n",
    "        finais = automatoND.finais\n",
    "        if type(finais) == str:\n",
    "            finais = [finais]\n",
    "    \n",
    "        for efinal in finais:\n",
    "            if (efinal in estado) and (not(estado in automatoDFA.finais)):\n",
    "                automatoDFA.finais.append(estado)\n",
    "\n",
    "    return automatoDFA"
   ]
  },
  {
   "cell_type": "markdown",
   "metadata": {},
   "source": [
    "### Teste da funcao de conversão"
   ]
  },
  {
   "cell_type": "code",
   "execution_count": 158,
   "metadata": {},
   "outputs": [
    {
     "name": "stdout",
     "output_type": "stream",
     "text": [
      "\n",
      "\n",
      "estados: ['q20', 'q0', 'q1', 'q11q15q2q7', 'q3', 'q4', 'q5', 'q6', 'q24', 'q19', 'q21', 'q8', 'q9', 'q10', 'q12', 'q22', 'q23', 'q13', 'q14', 'q16', 'q17', 'q18']\n",
      "simbolos: ['Liga', 'Desliga', 'Ficha Inserida', 'Alavanca', '7', 'Jackpot', 'Retira Prêmio', 'Libera Inserção de Ficha', 'Diamante', 'Exibe Mensagem de Derrota', 'Cereja', 'Limão']\n",
      "Estado inicial: q20\n",
      "Estados finais: ['q20']\n",
      "\n",
      "Tabela de transição:\n",
      "['q20', 'Liga', 'q0']\n",
      "['q0', 'Desliga', 'q20']\n",
      "['q0', 'Ficha Inserida', 'q1']\n",
      "['q1', 'Alavanca', 'q11q15q2q7']\n",
      "['q11q15q2q7', '7', 'q3']\n",
      "['q3', '7', 'q4']\n",
      "['q4', '7', 'q5']\n",
      "['q5', 'Jackpot', 'q6']\n",
      "['q6', 'Retira Prêmio', 'q24']\n",
      "['q24', 'Libera Inserção de Ficha', 'q0']\n",
      "['q4', 'Diamante', 'q19']\n",
      "['q19', 'Exibe Mensagem de Derrota', 'q21']\n",
      "['q21', 'Libera Inserção de Ficha', 'q0']\n",
      "['q4', 'Cereja', 'q19']\n",
      "['q4', 'Limão', 'q19']\n",
      "['q3', 'Diamante', 'q19']\n",
      "['q3', 'Cereja', 'q19']\n",
      "['q3', 'Limão', 'q19']\n",
      "['q11q15q2q7', 'Diamante', 'q8']\n",
      "['q8', '7', 'q19']\n",
      "['q8', 'Diamante', 'q9']\n",
      "['q9', '7', 'q19']\n",
      "['q9', 'Diamante', 'q10']\n",
      "['q10', 'Jackpot', 'q6']\n",
      "['q9', 'Cereja', 'q19']\n",
      "['q9', 'Limão', 'q19']\n",
      "['q8', 'Cereja', 'q19']\n",
      "['q8', 'Limão', 'q19']\n",
      "['q11q15q2q7', 'Cereja', 'q12']\n",
      "['q12', '7', 'q22']\n",
      "['q22', 'Exibe Mensagem de Derrota', 'q23']\n",
      "['q23', 'Libera Inserção de Ficha', 'q0']\n",
      "['q12', 'Diamante', 'q22']\n",
      "['q12', 'Cereja', 'q13']\n",
      "['q13', '7', 'q22']\n",
      "['q13', 'Diamante', 'q22']\n",
      "['q13', 'Cereja', 'q14']\n",
      "['q14', 'Jackpot', 'q6']\n",
      "['q13', 'Limão', 'q22']\n",
      "['q12', 'Limão', 'q22']\n",
      "['q11q15q2q7', 'Limão', 'q16']\n",
      "['q16', '7', 'q22']\n",
      "['q16', 'Diamante', 'q22']\n",
      "['q16', 'Cereja', 'q22']\n",
      "['q16', 'Limão', 'q17']\n",
      "['q17', '7', 'q22']\n",
      "['q17', 'Diamante', 'q22']\n",
      "['q17', 'Cereja', 'q22']\n",
      "['q17', 'Limão', 'q18']\n",
      "['q18', 'Jackpot', 'q6']\n"
     ]
    }
   ],
   "source": [
    "teste = converte('automatop.txt')\n",
    "\n",
    "\n",
    "print(\"\\n\\nestados:\", teste.estados)\n",
    "print(\"simbolos:\", teste.simbolos)\n",
    "print(\"Estado inicial:\", teste.inicial)\n",
    "print(\"Estados finais:\", teste.finais)\n",
    "\n",
    "print(\"\\nTabela de transição:\")\n",
    "for x in teste.transitiv:\n",
    "    print(x)"
   ]
  },
  {
   "cell_type": "markdown",
   "metadata": {},
   "source": [
    "# Funcao de aceitação"
   ]
  },
  {
   "cell_type": "code",
   "execution_count": 159,
   "metadata": {
    "collapsed": true
   },
   "outputs": [],
   "source": [
    "def checaSeAceita(automato,palavra):\n",
    "    \n",
    "    # começa no estado inicial sempre\n",
    "    eAtual = automato.inicial\n",
    "    \n",
    "    # vai lendo os simbolos da palavra e tentando percorrer o autômato\n",
    "    for simbolo in palavra:\n",
    "        transValida = False   # se encontrar uma transição válida, muda\n",
    "        # procura uma transição válida na lista de transições\n",
    "        for trans in automato.transitiv:\n",
    "            # se o simbolo e a palavra são uma transição válida, atualiza o estado atual e passa para o próximo símbolo\n",
    "            if (eAtual == trans[0]) and (simbolo == trans[1]):\n",
    "                eAtual = trans[2]\n",
    "                transValida = True\n",
    "                break\n",
    "        \n",
    "        if transValida:\n",
    "            continue   # vai para o próximo símbolo\n",
    "        \n",
    "        # se não encontrar, retorna com \"REJEITA\"\n",
    "        return \"REJEITA\"\n",
    "    \n",
    "    \n",
    "    # se finalizou-se o loop sem retornar \"REJEITA\", testa se o estado atual é um estado final\n",
    "    if eAtual in automato.finais:\n",
    "        return \"ACEITA\"\n",
    "    \n",
    "    else:\n",
    "        return \"REJEITA\"   \n",
    "    \n",
    "def reconhecimento(automato):\n",
    "    listaDePalavras = []\n",
    "\n",
    "    print('------- Teste do autômato para reconhecimento ou não de palavras  -------')\n",
    "    print('Digite uma palavra separando os símbolos por vírgula, sem espaço, para verificar seu reconhecimento:')\n",
    "    listaDePalavras.append(input())\n",
    "\n",
    "    while True:\n",
    "        print('Deseja fornecer mais palavras? s/n')\n",
    "        select = input()\n",
    "    \n",
    "        if select == \"s\":\n",
    "            print('Digite uma palavra separando os símbolos por vírgula, sem espaço, para verificar seu reconhecimento:')\n",
    "            listaDePalavras.append(input())\n",
    "        else:\n",
    "            break\n",
    "\n",
    "    print(\"\\n\")\n",
    "    counter = 1\n",
    "    for palavra in listaDePalavras:\n",
    "        palavra = palavra.split(\",\")\n",
    "        print(\"Palavra \"+ str(counter) + \": \", checaSeAceita(automato,palavra))\n",
    "        counter += 1"
   ]
  },
  {
   "cell_type": "markdown",
   "metadata": {},
   "source": [
    "# Teste final (combinando as duas funções)"
   ]
  },
  {
   "cell_type": "code",
   "execution_count": 163,
   "metadata": {},
   "outputs": [
    {
     "name": "stdout",
     "output_type": "stream",
     "text": [
      "------- Teste do autômato para reconhecimento ou não de palavras  -------\n",
      "Digite uma palavra separando os símbolos por vírgula, sem espaço, para verificar seu reconhecimento:\n",
      "Liga,Ficha Inserida,Alavanca,Diamante,Diamante,Diamante,Jackpot,Retira Prêmio,Libera Inserção de Ficha,Desliga\n",
      "Deseja fornecer mais palavras? s/n\n",
      "s\n",
      "Digite uma palavra separando os símbolos por vírgula, sem espaço, para verificar seu reconhecimento:\n",
      "Liga,Liga\n",
      "Deseja fornecer mais palavras? s/n\n",
      "s\n",
      "Digite uma palavra separando os símbolos por vírgula, sem espaço, para verificar seu reconhecimento:\n",
      "Liga,Desliga\n",
      "Deseja fornecer mais palavras? s/n\n",
      "n\n",
      "\n",
      "\n",
      "Palavra 1:  ACEITA\n",
      "Palavra 2:  REJEITA\n",
      "Palavra 3:  ACEITA\n"
     ]
    }
   ],
   "source": [
    "teste = converte('automatop.txt')\n",
    "reconhecimento(teste)"
   ]
  },
  {
   "cell_type": "markdown",
   "metadata": {},
   "source": [
    "### Exemplos de palavras que sao aceitas no arquivo automatop.txt:\n",
    "1. Liga,Ficha Inserida,Alavanca,7,Limão,Exibe Mensagem de Derrota,Libera Inserção de Ficha,Desliga\n",
    "2. Liga,Ficha Inserida,Alavanca,Diamante,Diamante,Diamante,Jackpot,Retira Prêmio,Libera Inserção de Ficha,Desliga\n",
    "3. Liga,Ficha Inserida,Alavanca,Diamante,Diamante,7,Exibe Mensagem de Derrota,Libera Inserção de Ficha,Ficha Inserida,Alavanca,7,7,Limão,Exibe Mensagem de Derrota,Libera Inserção de Ficha,Desliga\n",
    "4. Liga,Ficha Inserida,Alavanca,Limão,Limão,Limão,Jackpot,Retira Prêmio,Libera Inserção de Ficha,Ficha Inserida,Alavanca,7,7,7,Jackpot,Retira Prêmio,Libera Inserção de Ficha,Desliga\n",
    "5. Liga,Ficha Inserida,Alavanca,7,7,Cereja,Exibe Mensagem de Derrota,Libera Inserção de Ficha,Desliga\n",
    "\n",
    "### Exemplos de palavras que sao rejeitadas no arquivo automatop.txt:\n",
    "1. Liga,Retira Prêmio\n",
    "2. Libera Inserção De Ficha,Limão,Limão,7,7,Diamante,Alavanca\n",
    "3. Liga,Ficha Inserida,Retira Prêmio,Desliga\n",
    "4. Liga,Alavanca,Cereja,Cereja,Cereja,Jackpot,Retira Prêmio,Libera Inserção de Ficha,Desliga\n",
    "5. Liga,Liga"
   ]
  }
 ],
 "metadata": {
  "kernelspec": {
   "display_name": "Python 3",
   "language": "python",
   "name": "python3"
  },
  "language_info": {
   "codemirror_mode": {
    "name": "ipython",
    "version": 3
   },
   "file_extension": ".py",
   "mimetype": "text/x-python",
   "name": "python",
   "nbconvert_exporter": "python",
   "pygments_lexer": "ipython3",
   "version": "3.6.3"
  }
 },
 "nbformat": 4,
 "nbformat_minor": 2
}
