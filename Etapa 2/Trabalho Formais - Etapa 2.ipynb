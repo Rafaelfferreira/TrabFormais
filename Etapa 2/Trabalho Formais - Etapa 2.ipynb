{
 "cells": [
  {
   "cell_type": "markdown",
   "metadata": {},
   "source": [
    "### Importanto as bibliotecas"
   ]
  },
  {
   "cell_type": "code",
   "execution_count": 1,
   "metadata": {},
   "outputs": [],
   "source": [
    "import re #biblioteca para realizar buscas dentro do arquivo texto\n",
    "import os\n",
    "import copy"
   ]
  },
  {
   "cell_type": "markdown",
   "metadata": {},
   "source": [
    "### Definindo uma classe automato e criando uma função que leia o automato dado um arquivo .txt"
   ]
  },
  {
   "cell_type": "code",
   "execution_count": 2,
   "metadata": {},
   "outputs": [],
   "source": [
    "class automato:        \n",
    "    def __init__(self, arqtxt): #recebe como parametro um arquivo texto contendo o automato\n",
    "        \n",
    "        #Retorna os simbolos do alfabeto, os estados do automato, o estado inicial e os estados finais\n",
    "        quadrupla = re.search(\"\\(.*?\\)\",dados) #Procura a parte da string entre parenteses e a retorna (com os parenteses) dentro de um objeto match\n",
    "        quadrupla = quadrupla.group(0) #Extrai a string do objeto match\n",
    "        quadrupla = quadrupla[1:len(quadrupla)-1] #Retira os parenteses do começo e do final\n",
    "\n",
    "        #filtra os estados\n",
    "        simbolos = re.search(\"\\{.*?\\}\", quadrupla)\n",
    "        simbolos = simbolos.group(0)\n",
    "        simbolos = simbolos[1:len(simbolos)-1]\n",
    "        self.simbolos = simbolos.split(',')  #Salva os simbolos do objeto automato\n",
    "\n",
    "        tripla = quadrupla[len(simbolos)+3:] #passa para a variavel tripla a variavel quadrupla menos os estados\n",
    "\n",
    "        #filtra os simbolos\n",
    "        estados = re.search(\"\\{.*?\\}\", tripla)\n",
    "        estados = estados.group(0)\n",
    "        estados = estados[1:len(estados)-1]\n",
    "        self.estados = estados.split(',') #Salva os estados do objeto automato\n",
    "\n",
    "        dupla = tripla[len(estados)+3:] #passa para a variavel dupla a variavel tripla menos os simbolos\n",
    "\n",
    "        #filtra o estado inicial\n",
    "        restante = dupla.split(',')\n",
    "        self.inicial = restante[0]\n",
    "        if(len(restante) == 2):\n",
    "            self.finais = restante[1]\n",
    "        else:        \n",
    "            #filtra os estados finais\n",
    "            finais = dupla[len(self.inicial)+1:]\n",
    "            finais = finais[1:len(finais)-1]\n",
    "            self.finais = finais.split(',')\n",
    "            \n",
    "        #Salva a tabela de transição como uma lista de listas\n",
    "        #Da um slice em dados a partir do index inicial da palavra Prog + o tamanho da palavra prog + 1 (pois tem um '\\n' dps de prog)\n",
    "        transitiv_raw = (dados[dados.index('Prog') + len('Prog') + 1:])\n",
    "        transitiv_raw = transitiv_raw.split('\\n') #salva cada elemento em uma linha\n",
    "\n",
    "        transitiv = [] #inicializa a lista vazia que vai armazenar a tabela de transitividade\n",
    "        for x in transitiv_raw: #itera por cada elemento da tabela de transitividade\n",
    "            inst = [] #inicializa a lista que vai salvar os 3 elemento de cada transição\n",
    "            x = x.split('=') #divide o estado inicial + entrada do estado resultante\n",
    "    \n",
    "            atual = x[0][1:len(x[0])-1] #salva na variavel atual o estado atual + a variavel de entrada sem os parenteses\n",
    "            atual = atual.split(',') #faz com que atual contenha uma lista contendo o estado atual e a variavel\n",
    "            inst.append(atual[0]) #salva o estado atual\n",
    "            inst.append(atual[1]) #salva a variavel da transição\n",
    "            inst.append(x[1]) #salva o estado resultante no terceiro espaço da lista\n",
    "        \n",
    "            transitiv.append(inst) #salva a lista interna na lista externa\n",
    "        self.transitiv = transitiv"
   ]
  },
  {
   "cell_type": "markdown",
   "metadata": {},
   "source": [
    "### Testando para o exemplo dado pelo Lúcio e para o nosso automato da etapa 1"
   ]
  },
  {
   "cell_type": "markdown",
   "metadata": {},
   "source": [
    "##### Automato Lucio"
   ]
  },
  {
   "cell_type": "code",
   "execution_count": 3,
   "metadata": {
    "scrolled": false
   },
   "outputs": [
    {
     "name": "stdout",
     "output_type": "stream",
     "text": [
      "estados: ['q0', 'q1', 'q2', 'q3']\n",
      "simbolos: ['a', 'b']\n",
      "Estado inicial: q0\n",
      "Estados finais: ['q1', 'q3']\n",
      "\n",
      "Tabela de transição:\n",
      "['q0', 'a', 'q1']\n",
      "['q0', 'b', 'q2']\n",
      "['q1', 'b', 'q2']\n",
      "['q2', 'a', 'q3']\n",
      "['q2', 'a', 'q2']\n",
      "['q3', 'a', 'q3']\n",
      "['q3', 'b', 'q2']\n"
     ]
    }
   ],
   "source": [
    "#abre o arquivo teste.txt e salva seu conteúdo na variável dados\n",
    "openfile = open(\"teste.txt\", \"r\")\n",
    "dados = openfile.read()\n",
    "\n",
    "teste = automato(dados)\n",
    "\n",
    "print(\"estados:\", teste.estados)\n",
    "print(\"simbolos:\", teste.simbolos)\n",
    "print(\"Estado inicial:\", teste.inicial)\n",
    "print(\"Estados finais:\", teste.finais)\n",
    "print(\"\\nTabela de transição:\")\n",
    "for x in teste.transitiv:\n",
    "    print(x)"
   ]
  },
  {
   "cell_type": "markdown",
   "metadata": {},
   "source": [
    "##### Automato Etapa 2"
   ]
  },
  {
   "cell_type": "code",
   "execution_count": 101,
   "metadata": {},
   "outputs": [
    {
     "name": "stdout",
     "output_type": "stream",
     "text": [
      "estados: ['q0', 'q1', 'q2', 'q3', 'q4', 'q5', 'q6', 'q7', 'q8', 'q9', 'q10', 'q11', 'q12', 'q13', 'q14', 'q15', 'q16', 'q17', 'q18', 'q19', 'q20', 'q21', 'q22', 'q23', 'q24']\n",
      "simbolos: ['Liga', 'Desliga', 'Ficha Inserida', 'Alavanca', '7', 'Diamante', 'Cereja', 'Limão', 'Jackpot', 'Retira Prêmio', 'Libera Inserção de Ficha', 'Exibe Mensagem De Derrota']\n",
      "Estado inicial: q20\n",
      "Estados finais: q0\n",
      "\n",
      "Tabela de transição:\n",
      "['q20', 'Liga', 'q0']\n",
      "['q0', 'Desliga', 'q20']\n",
      "['q0', 'Ficha Inserida', 'q1']\n",
      "['q1', 'Alavanca', 'q2']\n",
      "['q1', 'Alavanca', 'q7']\n",
      "['q1', 'Alavanca', 'q11']\n",
      "['q1', 'Alavanca', 'q15']\n",
      "['q2', '7', 'q3']\n",
      "['q3', '7', 'q4']\n",
      "['q3', 'Cereja', 'q19']\n",
      "['q3', 'Diamante', 'q19']\n",
      "['q3', 'Limão', 'q19']\n",
      "['q4', '7', 'q5']\n",
      "['q4', 'Cereja', 'q19']\n",
      "['q4', 'Diamante', 'q19']\n",
      "['q4', 'Limão', 'q19']\n",
      "['q5', 'Jackpot', 'q6']\n",
      "['q6', 'Retira Prêmio', 'q24']\n",
      "['q7', 'Diamante', 'q8']\n",
      "['q8', 'Cereja', 'q19']\n",
      "['q8', '7', 'q19']\n",
      "['q8', 'Limão', 'q19']\n",
      "['q8', 'Diamante', 'q9']\n",
      "['q9', 'Cereja', 'q19']\n",
      "['q9', '7', 'q19']\n",
      "['q9', 'Limão', 'q19']\n",
      "['q9', 'Diamante', 'q10']\n",
      "['q10', 'Jackpot', 'q6']\n",
      "['q11', 'Cereja', 'q12']\n",
      "['q12', 'Cereja', 'q13']\n",
      "['q12', '7', 'q22']\n",
      "['q12', 'Limão', 'q22']\n",
      "['q12', 'Diamante', 'q22']\n",
      "['q13', 'Cereja', 'q14']\n",
      "['q13', '7', 'q22']\n",
      "['q13', 'Limão', 'q22']\n",
      "['q13', 'Diamante', 'q22']\n",
      "['q14', 'Jackpot', 'q6']\n",
      "['q15', 'Limão', 'q16']\n",
      "['q16', 'Limão', 'q17']\n",
      "['q16', '7', 'q22']\n",
      "['q16', 'Cereja', 'q22']\n",
      "['q16', 'Diamante', 'q22']\n",
      "['q17', 'Limão', 'q18']\n",
      "['q17', '7', 'q22']\n",
      "['q17', 'Cereja', 'q22']\n",
      "['q17', 'Diamante', 'q22']\n",
      "['q18', 'Jackpot', 'q6']\n",
      "['q19', 'Exibe Mensagem De Derrota', 'q21']\n",
      "['q21', 'Libera Inserção de Ficha', 'q0']\n",
      "['q22', 'Exibe Mensagem De Derrota', 'q23']\n",
      "['q23', 'Libera Inserção de Ficha', 'q0']\n",
      "['q24', 'Libera Inserção de Ficha', 'q0']\n"
     ]
    }
   ],
   "source": [
    "#abre o arquivo teste.txt e salva seu conteúdo na variável dados\n",
    "openfile = open(\"automatop.txt\",\"r\", encoding=\"utf-8\",) #Lembrar de incluir o encoding para que ele leia os acentos corretamente\n",
    "dados = openfile.read()\n",
    "\n",
    "teste = automato(dados)\n",
    "\n",
    "print(\"estados:\", teste.estados)\n",
    "print(\"simbolos:\", teste.simbolos)\n",
    "print(\"Estado inicial:\", teste.inicial)\n",
    "print(\"Estados finais:\", teste.finais)\n",
    "print(\"\\nTabela de transição:\")\n",
    "for x in teste.transitiv:\n",
    "    print(x)"
   ]
  },
  {
   "cell_type": "code",
   "execution_count": 4,
   "metadata": {},
   "outputs": [],
   "source": [
    "class automaTOP:\n",
    "    estados = []\n",
    "    simbolos = []\n",
    "    inicial  = teste.inicial\n",
    "    finais = []\n",
    "    transitiv = [] \n",
    "\n",
    "automatoDFA = automaTOP()\n",
    "\n",
    "# estados  já visitados\n",
    "visited = []\n",
    "\n",
    "\n",
    "def recursao(estado, simbolos, transicoes, visited, automatoDFA):\n",
    "    \n",
    "    # se o estado já foi checado e tratado, simplesmente retorna e continua a recursão\n",
    "    if estado in visited:\n",
    "        return\n",
    "\n",
    "        \n",
    "    # caso não, antes de tratá-lo, a primeira coisa para garantir que a recursão não entre em loop é justamente sinalizar como já visitado:\n",
    "    visited.append(estado)\n",
    "    \n",
    "    for simbolo in simbolos: \n",
    "            \n",
    "        # coleta todos os estados alcançáveis por aquele determinado estado recebendo aquele determinado símbolo\n",
    "        listaEstadosAlcancados = []\n",
    "        \n",
    "        # o estado sempre será tratado como uma lista de estados (que depois serão concatenados em um único):\n",
    "        for e in estado:\n",
    "            for t in range(len(transicoes)):\n",
    "                # checa nas transições se é o estado e a transição atuais e se o resultado já não está na lista de estados alcançados\n",
    "                if (e == transicoes[t][0]) and (simbolo == transicoes[t][1]) and not (transicoes[t][2] in listaEstadosAlcancados):\n",
    "                    listaEstadosAlcancados.append(transicoes[t][2])\n",
    "               \n",
    "        \n",
    "        #  checa se a lista de estados alcançados é vazia\n",
    "        if not listaEstadosAlcancados:\n",
    "            continue   # se for, skipa  uma iteração\n",
    "            \n",
    "        \n",
    "        # sempre dá um sort pra garantir que não se criará um estado novo que na verdade é igual a um já existente\n",
    "        listaEstadosAlcancados.sort()\n",
    "        # depois dessa coleta, essa lista de estados vai virar um estado só do  automato determinístico final\n",
    "        automatoDFA.transitiv.append([estado, simbolo, listaEstadosAlcancados])\n",
    "        if not(simbolo in automatoDFA.simbolos):\n",
    "            automatoDFA.simbolos.append(simbolo)  # adiciona o simbolo atual ao automato determinístico final\n",
    "        if not(estado in automatoDFA.estados):\n",
    "            automatoDFA.estados.append(estado)   # adiciona  o estado atual ao automato determinístico final\n",
    "                   \n",
    "        recursao(listaEstadosAlcancados, simbolos, transicoes, visited, automatoDFA)"
   ]
  },
  {
   "cell_type": "code",
   "execution_count": 5,
   "metadata": {},
   "outputs": [],
   "source": [
    "recursao([automatoDFA.inicial], teste.simbolos, teste.transitiv, visited, automatoDFA)\n"
   ]
  },
  {
   "cell_type": "code",
   "execution_count": 6,
   "metadata": {},
   "outputs": [],
   "source": [
    "# agora temos que transformar as listas de estados em um estado só representado pela concatenação dos itens da lista:\n",
    "\n",
    "# primeiro na lista de estados:\n",
    "counter = 0\n",
    "for estado in automatoDFA.estados:\n",
    "    \n",
    "    if type(estado) == list:   # se for um estado ou mais em forma de lista, converte\n",
    "        string = \"\"\n",
    "        for q in estado:   # para cada estado dentro desse estado que deveria ser único, concatena-os\n",
    "            string = string+q\n",
    "        automatoDFA.estados[counter] = string\n",
    "        \n",
    "    counter +=1\n",
    "\n",
    "    \n",
    "# depois fazemos o mesmo para as transições:\n",
    "counter = 0\n",
    "for trans in automatoDFA.transitiv:\n",
    "    \n",
    "    # trata estado atual da transição\n",
    "    if type(trans[0]) == list:   # se for um estado ou mais em forma de lista, converte\n",
    "        \n",
    "        string = \"\"\n",
    "        for q in trans[0]:   # para cada estado dentro desse estado que deveria ser único, concatena-os\n",
    "            string = string+q\n",
    "        automatoDFA.transitiv[counter][0] = string\n",
    "        \n",
    "    # trata estado final da transição\n",
    "    if type(trans[2]) == list:   # se for um estado ou mais em forma de lista, converte\n",
    "        string = \"\"\n",
    "        for q in trans[2]:   # para cada estado dentro desse estado que deveria ser único, concatena-os\n",
    "            string = string+q\n",
    "        automatoDFA.transitiv[counter][2] = string\n",
    "    \n",
    "    counter += 1"
   ]
  },
  {
   "cell_type": "code",
   "execution_count": 7,
   "metadata": {},
   "outputs": [],
   "source": [
    "# os estados finais serão todos aqueles que tiverem o próprio final do NFA ou algum estados agrupado com o final:\n",
    "\n",
    "for estado in automatoDFA.estados:\n",
    "    \n",
    "    # aqui só faz um teste para saber se existe apenas um final, neste caso deve-se passar uma lista desse um elemento\n",
    "    finais = teste.finais\n",
    "    \n",
    "    if type(finais) == str:\n",
    "        finais = [finais]\n",
    "    \n",
    "    for efinal in finais:\n",
    "        if (efinal in estado) and (not(estado in automatoDFA.finais)):\n",
    "            automatoDFA.finais.append(estado)"
   ]
  },
  {
   "cell_type": "code",
   "execution_count": 8,
   "metadata": {},
   "outputs": [
    {
     "name": "stdout",
     "output_type": "stream",
     "text": [
      "['q0', 'q1', 'q2', 'q2q3'] \n",
      "\n",
      "['a', 'b'] \n",
      "\n",
      "['q1', 'q2q3'] \n",
      "\n"
     ]
    }
   ],
   "source": [
    "print(automatoDFA.estados, \"\\n\")\n",
    "print(automatoDFA.simbolos, \"\\n\")\n",
    "print(automatoDFA.finais, \"\\n\")"
   ]
  },
  {
   "cell_type": "code",
   "execution_count": 9,
   "metadata": {},
   "outputs": [],
   "source": [
    "def checaSeAceita(palavra):\n",
    "    \n",
    "    # começa no estado inicial sempre\n",
    "    eAtual = automatoDFA.inicial\n",
    "    \n",
    "    # vai lendo os simbolos da palavra e tentando percorrer o autômato\n",
    "    for simbolo in palavra:\n",
    "        \n",
    "        transValida = False   # se encontrar uma transição válida, muda\n",
    "        # procura uma transição válida na lista de transições\n",
    "        for trans in automatoDFA.transitiv:\n",
    "            # se o simbolo e a palavra são uma transição válida, atualiza o estado atual e passa para o próximo símbolo\n",
    "            if (eAtual == trans[0]) and (simbolo == trans[1]):\n",
    "                eAtual = trans[2]\n",
    "                transValida = True\n",
    "        \n",
    "        if transValida:\n",
    "            continue   # vai para o próximo símbolo\n",
    "        \n",
    "        # se não encontrar, retorna com \"REJEITA\"\n",
    "        return \"REJEITA\"\n",
    "    \n",
    "    \n",
    "    # se finalizou-se o loop sem retornar \"REJEITA\", testa se o estado atual é um estado final\n",
    "    if eAtual in automatoDFA.finais:\n",
    "        return \"ACEITA\"\n",
    "    \n",
    "    else:\n",
    "        return \"REJEITA\"    "
   ]
  },
  {
   "cell_type": "code",
   "execution_count": 16,
   "metadata": {},
   "outputs": [
    {
     "name": "stdout",
     "output_type": "stream",
     "text": [
      "------- Teste do autômato para reconhecimento ou não de palavras  -------\n",
      "Digite uma palavra separando os símbolos por vírgula, sem espaço, para verificar seu reconhecimento:\n",
      "a,b,a,a,a,a,a,a,a\n",
      "Deseja fornecer mais palavras? sim/não\n",
      "sim\n",
      "Digite uma palavra separando os símbolos por vírgula, sem espaço, para verificar seu reconhecimento:\n",
      "a,a\n",
      "Deseja fornecer mais palavras? sim/não\n",
      "sim\n",
      "Digite uma palavra separando os símbolos por vírgula, sem espaço, para verificar seu reconhecimento:\n",
      "a,b,a\n",
      "Deseja fornecer mais palavras? sim/não\n",
      "sim\n",
      "Digite uma palavra separando os símbolos por vírgula, sem espaço, para verificar seu reconhecimento:\n",
      "b,a,b\n",
      "Deseja fornecer mais palavras? sim/não\n",
      "n\n",
      "\n",
      "\n",
      "Palavra 1:  ACEITA\n",
      "Palavra 2:  REJEITA\n",
      "Palavra 3:  ACEITA\n",
      "Palavra 4:  REJEITA\n"
     ]
    }
   ],
   "source": [
    "listaDePalavras = []\n",
    "\n",
    "print('------- Teste do autômato para reconhecimento ou não de palavras  -------')\n",
    "print('Digite uma palavra separando os símbolos por vírgula, sem espaço, para verificar seu reconhecimento:')\n",
    "listaDePalavras.append(input())\n",
    "\n",
    "while True:\n",
    "    print('Deseja fornecer mais palavras? sim/não')\n",
    "    select = input()\n",
    "    \n",
    "    if select == \"sim\":\n",
    "        print('Digite uma palavra separando os símbolos por vírgula, sem espaço, para verificar seu reconhecimento:')\n",
    "        listaDePalavras.append(input())\n",
    "    \n",
    "    else:\n",
    "        break\n",
    "\n",
    "print(\"\\n\")\n",
    "counter = 1\n",
    "for palavra in listaDePalavras:\n",
    "    palavra = palavra.split(\",\")\n",
    "    print(\"Palavra \"+ str(counter) + \": \", checaSeAceita(palavra))\n",
    "    counter += 1"
   ]
  },
  {
   "cell_type": "code",
   "execution_count": 15,
   "metadata": {},
   "outputs": [
    {
     "data": {
      "text/plain": [
       "[['q0', 'a', 'q1'],\n",
       " ['q1', 'b', 'q2'],\n",
       " ['q2', 'a', 'q2q3'],\n",
       " ['q2q3', 'a', 'q2q3'],\n",
       " ['q2q3', 'b', 'q2'],\n",
       " ['q0', 'b', 'q2']]"
      ]
     },
     "execution_count": 15,
     "metadata": {},
     "output_type": "execute_result"
    }
   ],
   "source": [
    "automatoDFA.transitiv"
   ]
  }
 ],
 "metadata": {
  "kernelspec": {
   "display_name": "Python 3",
   "language": "python",
   "name": "python3"
  },
  "language_info": {
   "codemirror_mode": {
    "name": "ipython",
    "version": 3
   },
   "file_extension": ".py",
   "mimetype": "text/x-python",
   "name": "python",
   "nbconvert_exporter": "python",
   "pygments_lexer": "ipython3",
   "version": "3.7.0"
  }
 },
 "nbformat": 4,
 "nbformat_minor": 2
}
