{
 "cells": [
  {
   "cell_type": "markdown",
   "metadata": {},
   "source": [
    "### Importanto as bibliotecas"
   ]
  },
  {
   "cell_type": "code",
   "execution_count": 1,
   "metadata": {},
   "outputs": [],
   "source": [
    "import re #biblioteca para realizar buscas dentro do arquivo texto\n",
    "import pickle #biblioteca para ler os arquivos"
   ]
  },
  {
   "cell_type": "markdown",
   "metadata": {},
   "source": [
    "### Definindo uma classe automato e criando uma função que leia o automato dado um arquivo .txt"
   ]
  },
  {
   "cell_type": "code",
   "execution_count": 8,
   "metadata": {},
   "outputs": [],
   "source": [
    "class automato:        \n",
    "    def __init__(self, arqtxt): #recebe como parametro um arquivo texto contendo o automato\n",
    "        \n",
    "        #Retorna os simbolos do alfabeto, os estados do automato, o estado inicial e os estados finais\n",
    "        quadrupla = re.search(\"\\(.*?\\)\",dados) #Procura a parte da string entre parenteses e a retorna (com os parenteses) dentro de um objeto match\n",
    "        quadrupla = quadrupla.group(0) #Extrai a string do objeto match\n",
    "        quadrupla = quadrupla[1:len(quadrupla)-1] #Retira os parenteses do começo e do final\n",
    "\n",
    "        #filtra os estados\n",
    "        simbolos = re.search(\"\\{.*?\\}\", quadrupla)\n",
    "        simbolos = simbolos.group(0)\n",
    "        simbolos = simbolos[1:len(simbolos)-1]\n",
    "        self.simbolos = simbolos.split(',')  #Salva os simbolos do objeto automato\n",
    "\n",
    "        tripla = quadrupla[len(simbolos)+3:] #passa para a variavel tripla a variavel quadrupla menos os estados\n",
    "\n",
    "        #filtra os simbolos\n",
    "        estados = re.search(\"\\{.*?\\}\", tripla)\n",
    "        estados = estados.group(0)\n",
    "        estados = estados[1:len(estados)-1]\n",
    "        self.estados = estados.split(',') #Salva os estados do objeto automato\n",
    "\n",
    "        dupla = tripla[len(estados)+3:] #passa para a variavel dupla a variavel tripla menos os simbolos\n",
    "\n",
    "        #filtra o estado inicial\n",
    "        restante = dupla.split(',')\n",
    "        self.inicial = restante[0]\n",
    "        if(len(restante) == 2):\n",
    "            self.finais = restante[1]\n",
    "        else:        \n",
    "            #filtra os estados finais\n",
    "            finais = dupla[len(self.inicial)+1:]\n",
    "            finais = finais[1:len(finais)-1]\n",
    "            self.finais = finais.split(',')"
   ]
  },
  {
   "cell_type": "markdown",
   "metadata": {},
   "source": [
    "### Testando para o exemplo dado pelo Lúcio e para o nosso automato da etapa 1"
   ]
  },
  {
   "cell_type": "markdown",
   "metadata": {},
   "source": [
    "##### Automato Lucio"
   ]
  },
  {
   "cell_type": "code",
   "execution_count": 9,
   "metadata": {
    "scrolled": false
   },
   "outputs": [
    {
     "name": "stdout",
     "output_type": "stream",
     "text": [
      "estados: ['q0', 'q1', 'q2', 'q3']\n",
      "simbolos: ['a', 'b']\n",
      "Estado inicial: q0\n",
      "Estados finais: ['q1', 'q3']\n"
     ]
    }
   ],
   "source": [
    "#abre o arquivo teste.txt e salva seu conteúdo na variável dados\n",
    "openfile = open(\"teste.txt\", \"r\")\n",
    "dados = openfile.read()\n",
    "\n",
    "teste = automato(dados)\n",
    "\n",
    "print(\"estados:\", teste.estados)\n",
    "print(\"simbolos:\", teste.simbolos)\n",
    "print(\"Estado inicial:\", teste.inicial)\n",
    "print(\"Estados finais:\", teste.finais)"
   ]
  },
  {
   "cell_type": "markdown",
   "metadata": {},
   "source": [
    "##### Automato Etapa 2"
   ]
  },
  {
   "cell_type": "code",
   "execution_count": 10,
   "metadata": {},
   "outputs": [
    {
     "name": "stdout",
     "output_type": "stream",
     "text": [
      "estados: ['q0', ' q1', ' q2', ' q3', ' q4', ' q5', ' q6', ' q7', ' q8', ' q9', ' q10', ' q11', ' q12', ' q13', ' q14', ' q15', ' q16', ' q17', ' q18', ' q19', ' q20', ' q21', ' q22', ' q23', ' q24']\n",
      "simbolos: ['Liga', ' Desliga', ' Ficha Inserida', ' Alavanca', ' 7', ' Diamante', ' Cereja', ' Limão', ' Jackpot', ' Retira Premio', ' Libera Inserção de Ficha', ' Exibe Mensagem De Derrota']\n",
      "Estado inicial: q0\n",
      "Estados finais: q0\n"
     ]
    }
   ],
   "source": [
    "#abre o arquivo teste.txt e salva seu conteúdo na variável dados\n",
    "openfile = open(\"automatop.txt\", \"r\")\n",
    "dados = openfile.read()\n",
    "\n",
    "teste = automato(dados)\n",
    "\n",
    "print(\"estados:\", teste.estados)\n",
    "print(\"simbolos:\", teste.simbolos)\n",
    "print(\"Estado inicial:\", teste.inicial)\n",
    "print(\"Estados finais:\", teste.finais)"
   ]
  }
 ],
 "metadata": {
  "kernelspec": {
   "display_name": "Python 3",
   "language": "python",
   "name": "python3"
  },
  "language_info": {
   "codemirror_mode": {
    "name": "ipython",
    "version": 3
   },
   "file_extension": ".py",
   "mimetype": "text/x-python",
   "name": "python",
   "nbconvert_exporter": "python",
   "pygments_lexer": "ipython3",
   "version": "3.6.4"
  }
 },
 "nbformat": 4,
 "nbformat_minor": 2
}
